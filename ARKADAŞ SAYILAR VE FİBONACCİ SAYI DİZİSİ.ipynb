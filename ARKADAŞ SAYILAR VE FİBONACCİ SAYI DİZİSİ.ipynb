{
 "cells": [
  {
   "cell_type": "markdown",
   "id": "8e6791ba",
   "metadata": {},
   "source": [
    "### SORU1: Kullanıcı tarafından girilen iki sayının arkadaş olup   olmadığını tespit eden fonksiyon yazdırınız."
   ]
  },
  {
   "cell_type": "markdown",
   "id": "44cea2d2",
   "metadata": {},
   "source": [
    "### ARKADAŞ SAYILAR\n",
    "\n",
    "İki sayı birbirinin kendisi hariç pozitif bölenleri toplamına eşitse bu sayılara arkadaş sayılar \n",
    "denir. En küçük arkadaş sayı çifti 200 ve 284’tür. Bu iki sayı arkadaş sayıdır çünkü 220’nin \n",
    "kendisi hariç pozitif bölenlerinin toplamı 284’e, 284’ün kendisi hariç pozitif bölenlerinin \n",
    "toplamı 220’ye eşittir. \n",
    "\n",
    "220’nin kendisi hariç pozitif bölenlerinin toplamı : \n",
    "1 + 2 + 4 + 5 + 10 + 11 + 20 + 22 + 44 + 55 + 110 = 284\n",
    "\n",
    "284’ün kendisi hariç pozitif bölenlerinin toplamı : \n",
    "1 + 2 + 4 + 71 + 142 = 220\n",
    "\n",
    "Kullanıcının girdiği iki sayı arkadaş ise fonksiyon true değer döner, arkadaş değilse false değer döner.\n"
   ]
  },
  {
   "cell_type": "code",
   "execution_count": 2,
   "id": "d24bca4e",
   "metadata": {
    "scrolled": false
   },
   "outputs": [
    {
     "name": "stdout",
     "output_type": "stream",
     "text": [
      "Birinci Sayiyi Girin.\n",
      "220\n",
      "İkinci Sayiyi Girin.\n",
      "284\n",
      "Sayı 220 ile Sayı 284 Arkadaş Sayılardır.\n"
     ]
    }
   ],
   "source": [
    "BirinciSayi= int (input(\"Birinci Sayiyi Girin.\\n\"))\n",
    "\n",
    "IkinciSayi= int (input(\"İkinci Sayiyi Girin.\\n\"))\n",
    "\n",
    "BolenToplam1=0\n",
    "\n",
    "BolenToplam2=0\n",
    "\n",
    "for i in range(1,BirinciSayi):\n",
    "    if BirinciSayi%i==0:\n",
    "        BolenToplam1+=i\n",
    "    \n",
    "for i in range(1,IkinciSayi):\n",
    "    if IkinciSayi%i==0:\n",
    "        BolenToplam2+=i\n",
    "        \n",
    "\n",
    "if BolenToplam1==IkinciSayi and BolenToplam2==BirinciSayi:\n",
    "    print(\"Sayı {} ile Sayı {} Arkadaş Sayılardır.\" .format(BirinciSayi,IkinciSayi))\n",
    "else:\n",
    "    print(\"Sayı {} ile Sayı {} Arkadaş Sayı Değillerdir.\" .format(BirinciSayi,IkinciSayi))\n",
    "    \n",
    "\n"
   ]
  },
  {
   "cell_type": "markdown",
   "id": "f27e4410",
   "metadata": {},
   "source": [
    "### SORU2: 0'dan başlayıp istediğimiz sayıya kadar giden fibonacci serisi oluşturunuz."
   ]
  },
  {
   "cell_type": "markdown",
   "id": "2d358e7b",
   "metadata": {},
   "source": [
    " ### FİBONACCİ SAYI DİZİSİ\n",
    "\n",
    "Bu işlem için bir fonksiyon yazılabilir ve başlangıç, bitiş olmak üzere iki parametre alabilir. Varsayılan ilk parametre 0 kabul edilebilir.\n",
    "0, 1, 1, 2, 3, 5, 8, 13, 21, 34, 55, 89, 144, 233, 377, 610, 987, 1597, 2584, 4181, 6765…\n"
   ]
  },
  {
   "cell_type": "code",
   "execution_count": 4,
   "id": "ee19a326",
   "metadata": {},
   "outputs": [
    {
     "name": "stdout",
     "output_type": "stream",
     "text": [
      "Lütfen Sayı Giriniz:50\n",
      "0\n",
      "1\n",
      "1\n",
      "2\n",
      "3\n",
      "5\n",
      "8\n",
      "13\n",
      "21\n",
      "34\n",
      "55\n",
      "89\n",
      "144\n",
      "233\n",
      "377\n",
      "610\n",
      "987\n",
      "1597\n",
      "2584\n",
      "4181\n",
      "6765\n",
      "10946\n",
      "17711\n",
      "28657\n",
      "46368\n",
      "75025\n",
      "121393\n",
      "196418\n",
      "317811\n",
      "514229\n",
      "832040\n",
      "1346269\n",
      "2178309\n",
      "3524578\n",
      "5702887\n",
      "9227465\n",
      "14930352\n",
      "24157817\n",
      "39088169\n",
      "63245986\n",
      "102334155\n",
      "165580141\n",
      "267914296\n",
      "433494437\n",
      "701408733\n",
      "1134903170\n",
      "1836311903\n",
      "2971215073\n",
      "4807526976\n",
      "7778742049\n"
     ]
    }
   ],
   "source": [
    "def fibonacci(dizi):\n",
    "    sayi1=0\n",
    "    sayi2=1\n",
    "    print(sayi1)\n",
    "    print(sayi2)\n",
    "    for i in range (dizi-2):\n",
    "        sayi3=sayi1+sayi2\n",
    "        print(sayi3)\n",
    "        sayi1=sayi2\n",
    "        sayi2=sayi3\n",
    "dizi=int(input(\"Lütfen Sayı Giriniz:\"))\n",
    "fibonacci(dizi)\n"
   ]
  }
 ],
 "metadata": {
  "kernelspec": {
   "display_name": "Python 3 (ipykernel)",
   "language": "python",
   "name": "python3"
  },
  "language_info": {
   "codemirror_mode": {
    "name": "ipython",
    "version": 3
   },
   "file_extension": ".py",
   "mimetype": "text/x-python",
   "name": "python",
   "nbconvert_exporter": "python",
   "pygments_lexer": "ipython3",
   "version": "3.9.7"
  }
 },
 "nbformat": 4,
 "nbformat_minor": 5
}
